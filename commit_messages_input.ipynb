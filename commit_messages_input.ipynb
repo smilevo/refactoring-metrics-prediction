{
 "cells": [
  {
   "cell_type": "code",
   "execution_count": 22,
   "metadata": {},
   "outputs": [],
   "source": [
    "#start with new dataset\n",
    "# commit messages , class : random forest, nueral network (compare results)\n",
    "#metrics class : random forest, nueral network (compare results)\n",
    "#imported all required libraries \n",
    "import pandas as pd\n",
    "import numpy as np\n",
    "from keras.preprocessing.text import one_hot  #import library for hot-encoding\n",
    "from keras.preprocessing.sequence import pad_sequences\n",
    "from keras.models import Sequential #import needed functions for LSTM\n",
    "from keras.layers.core import Activation, Dropout, Dense #import functions needed for LSTM\n",
    "from keras.layers import Flatten, LSTM  #import LSTM framework \n",
    "from keras.layers import GlobalMaxPooling1D\n",
    "from keras.models import Model\n",
    "from keras.layers.embeddings import Embedding  #import libraries required for word-embeddings \n",
    "from sklearn.model_selection import train_test_split\n",
    "from keras.preprocessing.text import Tokenizer\n",
    "from keras.layers import Input\n",
    "from keras.layers.merge import Concatenate\n",
    "import matplotlib.pyplot as plt\n",
    "from numpy import array\n",
    "import re #to handle regex \n",
    "import matplotlib.pyplot as plt # for plotting charts\n",
    "import seaborn as sns # to plot charts\n",
    "from sklearn.preprocessing import StandardScaler # to test sklearn\n",
    "import keras # Imports keras framework \n",
    "from sklearn import preprocessing\n",
    "from keras.utils import to_categorical\n",
    "import tensorflow as tf # Import tensorflow framework\n",
    "from keras import backend as K\n",
    "from nltk.corpus import stopwords\n",
    "from keras.layers import Input, Dense, Embedding, SpatialDropout1D, add, concatenate\n",
    "#from keras.layers import CuDNNLSTM, Bidirectional, GlobalMaxPooling1D, GlobalAveragePooling1D\n",
    "#from gensim.models import KeyedVectors\n",
    "from keras.callbacks import ModelCheckpoint, EarlyStopping"
   ]
  },
  {
   "cell_type": "code",
   "execution_count": 2,
   "metadata": {},
   "outputs": [],
   "source": [
    "#Read the dataset into dataframe \n",
    "df_c = pd.read_csv('C:/Users/Priya/Desktop/IndependentStudy/commit_text.csv')"
   ]
  },
  {
   "cell_type": "code",
   "execution_count": 3,
   "metadata": {},
   "outputs": [
    {
     "data": {
      "text/html": [
       "<div>\n",
       "<style scoped>\n",
       "    .dataframe tbody tr th:only-of-type {\n",
       "        vertical-align: middle;\n",
       "    }\n",
       "\n",
       "    .dataframe tbody tr th {\n",
       "        vertical-align: top;\n",
       "    }\n",
       "\n",
       "    .dataframe thead th {\n",
       "        text-align: right;\n",
       "    }\n",
       "</style>\n",
       "<table border=\"1\" class=\"dataframe\">\n",
       "  <thead>\n",
       "    <tr style=\"text-align: right;\">\n",
       "      <th></th>\n",
       "      <th>Commit message</th>\n",
       "      <th>Class</th>\n",
       "    </tr>\n",
       "  </thead>\n",
       "  <tbody>\n",
       "    <tr>\n",
       "      <th>0</th>\n",
       "      <td>extract method.</td>\n",
       "      <td>extract</td>\n",
       "    </tr>\n",
       "    <tr>\n",
       "      <th>1</th>\n",
       "      <td>Minor tweaks following review extraction of me...</td>\n",
       "      <td>extract</td>\n",
       "    </tr>\n",
       "    <tr>\n",
       "      <th>2</th>\n",
       "      <td>extract some stuff to a method[git p4: depot p...</td>\n",
       "      <td>extract</td>\n",
       "    </tr>\n",
       "    <tr>\n",
       "      <th>3</th>\n",
       "      <td>extract some methods in DoiServiceImpl</td>\n",
       "      <td>extract</td>\n",
       "    </tr>\n",
       "    <tr>\n",
       "      <th>4</th>\n",
       "      <td>refactoring getMenuSpace in Navigation: extrac...</td>\n",
       "      <td>extract</td>\n",
       "    </tr>\n",
       "    <tr>\n",
       "      <th>...</th>\n",
       "      <td>...</td>\n",
       "      <td>...</td>\n",
       "    </tr>\n",
       "    <tr>\n",
       "      <th>4999</th>\n",
       "      <td>Rename getProtocol to getMechanism in TestClient</td>\n",
       "      <td>rename</td>\n",
       "    </tr>\n",
       "    <tr>\n",
       "      <th>5000</th>\n",
       "      <td>Rename mapping methods to mapFrom/mapTo  Signe...</td>\n",
       "      <td>rename</td>\n",
       "    </tr>\n",
       "    <tr>\n",
       "      <th>5001</th>\n",
       "      <td>renaming refactor on deserialization related c...</td>\n",
       "      <td>rename</td>\n",
       "    </tr>\n",
       "    <tr>\n",
       "      <th>5002</th>\n",
       "      <td>renamed usage to description to match the name...</td>\n",
       "      <td>rename</td>\n",
       "    </tr>\n",
       "    <tr>\n",
       "      <th>5003</th>\n",
       "      <td>renamed isOccupied(Point Point) to hasRoadUser...</td>\n",
       "      <td>rename</td>\n",
       "    </tr>\n",
       "  </tbody>\n",
       "</table>\n",
       "<p>5004 rows × 2 columns</p>\n",
       "</div>"
      ],
      "text/plain": [
       "                                         Commit message    Class\n",
       "0                                       extract method.  extract\n",
       "1     Minor tweaks following review extraction of me...  extract\n",
       "2     extract some stuff to a method[git p4: depot p...  extract\n",
       "3                extract some methods in DoiServiceImpl  extract\n",
       "4     refactoring getMenuSpace in Navigation: extrac...  extract\n",
       "...                                                 ...      ...\n",
       "4999   Rename getProtocol to getMechanism in TestClient   rename\n",
       "5000  Rename mapping methods to mapFrom/mapTo  Signe...   rename\n",
       "5001  renaming refactor on deserialization related c...   rename\n",
       "5002  renamed usage to description to match the name...   rename\n",
       "5003  renamed isOccupied(Point Point) to hasRoadUser...   rename\n",
       "\n",
       "[5004 rows x 2 columns]"
      ]
     },
     "execution_count": 3,
     "metadata": {},
     "output_type": "execute_result"
    }
   ],
   "source": [
    "#print dataframe\n",
    "df_c"
   ]
  },
  {
   "cell_type": "code",
   "execution_count": 4,
   "metadata": {},
   "outputs": [],
   "source": [
    "#drop NANs\n",
    "df_c=df_c.dropna()"
   ]
  },
  {
   "cell_type": "code",
   "execution_count": 5,
   "metadata": {},
   "outputs": [
    {
     "data": {
      "text/html": [
       "<div>\n",
       "<style scoped>\n",
       "    .dataframe tbody tr th:only-of-type {\n",
       "        vertical-align: middle;\n",
       "    }\n",
       "\n",
       "    .dataframe tbody tr th {\n",
       "        vertical-align: top;\n",
       "    }\n",
       "\n",
       "    .dataframe thead th {\n",
       "        text-align: right;\n",
       "    }\n",
       "</style>\n",
       "<table border=\"1\" class=\"dataframe\">\n",
       "  <thead>\n",
       "    <tr style=\"text-align: right;\">\n",
       "      <th></th>\n",
       "      <th>Commit message</th>\n",
       "      <th>Class</th>\n",
       "    </tr>\n",
       "  </thead>\n",
       "  <tbody>\n",
       "    <tr>\n",
       "      <th>0</th>\n",
       "      <td>extract method.</td>\n",
       "      <td>extract</td>\n",
       "    </tr>\n",
       "    <tr>\n",
       "      <th>1</th>\n",
       "      <td>Minor tweaks following review extraction of me...</td>\n",
       "      <td>extract</td>\n",
       "    </tr>\n",
       "    <tr>\n",
       "      <th>2</th>\n",
       "      <td>extract some stuff to a method[git p4: depot p...</td>\n",
       "      <td>extract</td>\n",
       "    </tr>\n",
       "    <tr>\n",
       "      <th>3</th>\n",
       "      <td>extract some methods in DoiServiceImpl</td>\n",
       "      <td>extract</td>\n",
       "    </tr>\n",
       "    <tr>\n",
       "      <th>4</th>\n",
       "      <td>refactoring getMenuSpace in Navigation: extrac...</td>\n",
       "      <td>extract</td>\n",
       "    </tr>\n",
       "    <tr>\n",
       "      <th>...</th>\n",
       "      <td>...</td>\n",
       "      <td>...</td>\n",
       "    </tr>\n",
       "    <tr>\n",
       "      <th>4999</th>\n",
       "      <td>Rename getProtocol to getMechanism in TestClient</td>\n",
       "      <td>rename</td>\n",
       "    </tr>\n",
       "    <tr>\n",
       "      <th>5000</th>\n",
       "      <td>Rename mapping methods to mapFrom/mapTo  Signe...</td>\n",
       "      <td>rename</td>\n",
       "    </tr>\n",
       "    <tr>\n",
       "      <th>5001</th>\n",
       "      <td>renaming refactor on deserialization related c...</td>\n",
       "      <td>rename</td>\n",
       "    </tr>\n",
       "    <tr>\n",
       "      <th>5002</th>\n",
       "      <td>renamed usage to description to match the name...</td>\n",
       "      <td>rename</td>\n",
       "    </tr>\n",
       "    <tr>\n",
       "      <th>5003</th>\n",
       "      <td>renamed isOccupied(Point Point) to hasRoadUser...</td>\n",
       "      <td>rename</td>\n",
       "    </tr>\n",
       "  </tbody>\n",
       "</table>\n",
       "<p>5004 rows × 2 columns</p>\n",
       "</div>"
      ],
      "text/plain": [
       "                                         Commit message    Class\n",
       "0                                       extract method.  extract\n",
       "1     Minor tweaks following review extraction of me...  extract\n",
       "2     extract some stuff to a method[git p4: depot p...  extract\n",
       "3                extract some methods in DoiServiceImpl  extract\n",
       "4     refactoring getMenuSpace in Navigation: extrac...  extract\n",
       "...                                                 ...      ...\n",
       "4999   Rename getProtocol to getMechanism in TestClient   rename\n",
       "5000  Rename mapping methods to mapFrom/mapTo  Signe...   rename\n",
       "5001  renaming refactor on deserialization related c...   rename\n",
       "5002  renamed usage to description to match the name...   rename\n",
       "5003  renamed isOccupied(Point Point) to hasRoadUser...   rename\n",
       "\n",
       "[5004 rows x 2 columns]"
      ]
     },
     "execution_count": 5,
     "metadata": {},
     "output_type": "execute_result"
    }
   ],
   "source": [
    "#print dataframe df_c\n",
    "df_c"
   ]
  },
  {
   "cell_type": "code",
   "execution_count": 6,
   "metadata": {},
   "outputs": [],
   "source": [
    "#randomie the dataset \n",
    "df_c= df_c.sample(frac=1)"
   ]
  },
  {
   "cell_type": "code",
   "execution_count": 7,
   "metadata": {},
   "outputs": [
    {
     "data": {
      "text/plain": [
       "array(['pull up', 'extract', 'move', 'rename', 'push down', 'inline'],\n",
       "      dtype=object)"
      ]
     },
     "execution_count": 7,
     "metadata": {},
     "output_type": "execute_result"
    }
   ],
   "source": [
    "#check the classes\n",
    "df_c.Class.unique()"
   ]
  },
  {
   "cell_type": "code",
   "execution_count": 9,
   "metadata": {},
   "outputs": [
    {
     "data": {
      "text/plain": [
       "rename       834\n",
       "pull up      834\n",
       "extract      834\n",
       "push down    834\n",
       "inline       834\n",
       "move         834\n",
       "Name: Class, dtype: int64"
      ]
     },
     "execution_count": 9,
     "metadata": {},
     "output_type": "execute_result"
    }
   ],
   "source": [
    "#there are 6 classes\n",
    "#print the count of each classes\n",
    "df_c['Class'].value_counts()"
   ]
  },
  {
   "cell_type": "code",
   "execution_count": 13,
   "metadata": {},
   "outputs": [],
   "source": [
    "df_c = df_c.reset_index(drop=True)\n",
    "char_replace = re.compile('[/(){}\\[\\]\\|@,;]')\n",
    "symbol_replace = re.compile('[^0-9a-z #+_]')\n",
    "stop_w = set(stopwords.words('english'))\n",
    "\n",
    "def preprocess_commits(text):\n",
    "    \"\"\"\n",
    "    function to clean commit text\n",
    "    \"\"\"\n",
    "    text = text.lower() # lowercase text\n",
    "    text = char_replace.sub(' ', text) \n",
    "    text = symbol_replace.sub('', text)  \n",
    "    text = text.replace('x', '')\n",
    "    text = ' '.join(word for word in text.split() if word not in stop_w) # remove stopwors from text\n",
    "    return text"
   ]
  },
  {
   "cell_type": "code",
   "execution_count": 14,
   "metadata": {},
   "outputs": [],
   "source": [
    "df_c['Commit message'] = df_c['Commit message'].apply(preprocess_commits)\n",
    "df_c['Commit message'] = df_c['Commit message'].str.replace('\\d+', '')"
   ]
  },
  {
   "cell_type": "code",
   "execution_count": 15,
   "metadata": {},
   "outputs": [
    {
     "data": {
      "text/plain": [
       "0       biserver  intitial refactor editor classes sup...\n",
       "1       move languages certificates year film content ...\n",
       "2                             add support readvalues well\n",
       "3       dependency fiing added lahttpparser used eplic...\n",
       "4       refactoring move calendar classes new calendar...\n",
       "                              ...                        \n",
       "4999    refactor towards composed method renamed show ...\n",
       "5000    resolved issue dirmina  change mina create hea...\n",
       "5001                                         code etracts\n",
       "5002                       refactored routesolver classes\n",
       "5003    df# qcadoomes moved filling quantities beforer...\n",
       "Name: Commit message, Length: 5004, dtype: object"
      ]
     },
     "execution_count": 15,
     "metadata": {},
     "output_type": "execute_result"
    }
   ],
   "source": [
    "#print preprocessed commit messages\n",
    "df_c['Commit message']"
   ]
  },
  {
   "cell_type": "code",
   "execution_count": 16,
   "metadata": {},
   "outputs": [
    {
     "name": "stdout",
     "output_type": "stream",
     "text": [
      "Found 14868 unique tokens.\n"
     ]
    }
   ],
   "source": [
    "# The maximum number of words to be used. (most frequent)\n",
    "max_words = 50000\n",
    "# Max number of words in each commit\n",
    "max_sequence = 100\n",
    "EMBEDDING_DIM = 100\n",
    "tokenizer = Tokenizer(num_words=max_words, filters='!\"#$%&()*+,-./:;<=>?@[\\]^_`{|}~', lower=True)\n",
    "tokenizer.fit_on_texts(df_c['Commit message'].values)\n",
    "word_index = tokenizer.word_index\n",
    "print('Found %s unique tokens.' % len(word_index))"
   ]
  },
  {
   "cell_type": "code",
   "execution_count": 17,
   "metadata": {},
   "outputs": [
    {
     "name": "stdout",
     "output_type": "stream",
     "text": [
      "Shape of data tensor: (5004, 100)\n"
     ]
    }
   ],
   "source": [
    "#truncate the text and padding\n",
    "X = tokenizer.texts_to_sequences(df_c['Commit message'].values)\n",
    "X = pad_sequences(X, maxlen=max_sequence)\n",
    "print('Shape of data tensor:', X.shape)"
   ]
  },
  {
   "cell_type": "code",
   "execution_count": 19,
   "metadata": {},
   "outputs": [
    {
     "name": "stdout",
     "output_type": "stream",
     "text": [
      "Shape of tensor: (5004, 6)\n"
     ]
    }
   ],
   "source": [
    "#convert refactoring classes to numbers \n",
    "Y = pd.get_dummies(df_c['Class']).values\n",
    "print('Shape of tensor:', Y.shape)"
   ]
  },
  {
   "cell_type": "code",
   "execution_count": 20,
   "metadata": {},
   "outputs": [
    {
     "name": "stdout",
     "output_type": "stream",
     "text": [
      "(4503, 100) (4503, 6)\n",
      "(501, 100) (501, 6)\n"
     ]
    }
   ],
   "source": [
    "#split train and test data\n",
    "X_train, X_test, Y_train, Y_test = train_test_split(X,Y, test_size = 0.30, random_state = 42)\n",
    "print(X_train.shape,Y_train.shape)\n",
    "print(X_test.shape,Y_test.shape)"
   ]
  },
  {
   "cell_type": "code",
   "execution_count": 24,
   "metadata": {},
   "outputs": [],
   "source": [
    "#functions to calculate keras custom metrics\n",
    "'''\n",
    "function to calculate recall metrics of the model\n",
    "Recall = TruePositives / (TruePositives + FalseNegatives)\n",
    "Y_t: true values\n",
    "Y_p: predicted true values \n",
    "\n",
    "'''\n",
    "def recall(Y_t, Y_p):\n",
    "    Y_t = K.ones_like(Y_t) \n",
    "    true_positives = K.sum(K.round(K.clip(Y_t * Y_p, 0, 1)))\n",
    "    all_positives = K.sum(K.round(K.clip(Y_t, 0, 1)))\n",
    "    recall = true_positives / (all_positives + K.epsilon())\n",
    "    return recall\n",
    "\n",
    "'''\n",
    "function to calculate precision of the model\n",
    "Precision= TruePositives / (TruePositives + FalsePositives)\n",
    "Y_t: true values\n",
    "Y_p: predicted true values \n",
    "'''\n",
    "def precision(Y_t, Y_p):\n",
    "    Y_t = K.ones_like(Y_t) \n",
    "    true_positives = K.sum(K.round(K.clip(Y_t * Y_p, 0, 1)))\n",
    "    predicted_positives = K.sum(K.round(K.clip(Y_p, 0, 1)))\n",
    "    precision = true_positives / (predicted_positives + K.epsilon())\n",
    "    return precision\n",
    "\n",
    "'''\n",
    "function to calculate F-1 score of the model\n",
    "F-1 score=  (2 * Precision * Recall) / (Precision + Recall)\n",
    "Y_t: true values\n",
    "Y_p: predicted true values \n",
    "'''\n",
    "def f1_score(Y_t, Y_p):\n",
    "    pr = precision(Y_t, Y_p)\n",
    "    rc = recall(Y_t, Y_p)\n",
    "    return 2*((pr*rc)/(pr+rc+K.epsilon()))"
   ]
  },
  {
   "cell_type": "code",
   "execution_count": 25,
   "metadata": {},
   "outputs": [
    {
     "name": "stdout",
     "output_type": "stream",
     "text": [
      "Epoch 1/5\n",
      "64/64 [==============================] - 22s 348ms/step - loss: 1.7477 - accuracy: 0.2384 - f1_score: 9.6154e-04 - precision: 0.0312 - recall: 4.8828e-04 - val_loss: 1.6404 - val_accuracy: 0.3237 - val_f1_score: 6.4935e-04 - val_precision: 0.1250 - val_recall: 3.2552e-04\n",
      "Epoch 2/5\n",
      "64/64 [==============================] - 23s 359ms/step - loss: 1.3681 - accuracy: 0.4640 - f1_score: 0.0657 - precision: 0.9688 - recall: 0.0342 - val_loss: 1.2487 - val_accuracy: 0.4745 - val_f1_score: 0.1045 - val_precision: 1.0000 - val_recall: 0.0566\n",
      "Epoch 3/5\n",
      "64/64 [==============================] - 24s 369ms/step - loss: 0.9746 - accuracy: 0.6340 - f1_score: 0.1333 - precision: 1.0000 - recall: 0.0716 - val_loss: 1.1222 - val_accuracy: 0.6142 - val_f1_score: 0.1517 - val_precision: 1.0000 - val_recall: 0.0830\n",
      "Epoch 4/5\n",
      "64/64 [==============================] - 23s 355ms/step - loss: 0.7229 - accuracy: 0.7453 - f1_score: 0.1906 - precision: 1.0000 - recall: 0.1055 - val_loss: 1.1375 - val_accuracy: 0.5898 - val_f1_score: 0.2017 - val_precision: 1.0000 - val_recall: 0.1126\n",
      "Epoch 5/5\n",
      "64/64 [==============================] - 23s 355ms/step - loss: 0.5197 - accuracy: 0.8208 - f1_score: 0.2425 - precision: 1.0000 - recall: 0.1381 - val_loss: 1.3149 - val_accuracy: 0.5632 - val_f1_score: 0.2260 - val_precision: 1.0000 - val_recall: 0.1276\n"
     ]
    }
   ],
   "source": [
    "#build the LSTM model  \n",
    "model = Sequential()\n",
    "model.add(Embedding(max_words, EMBEDDING_DIM, input_length=X.shape[1])) #create embedding layer\n",
    "model.add(SpatialDropout1D(0.2))\n",
    "model.add(LSTM(100, dropout=0.2, recurrent_dropout=0.2))\n",
    "model.add(Dense(6, activation='softmax'))  #there are 6 classes total\n",
    "model.compile(loss='categorical_crossentropy', optimizer='adam', metrics=['accuracy',f1_score, precision, recall])\n",
    "#define hyperparameters \n",
    "lstm_m = model.fit(X_train, Y_train, epochs=5, batch_size=128 ,validation_split=0.1,callbacks=[EarlyStopping(monitor='val_loss', patience=3, min_delta=0.0001)])"
   ]
  },
  {
   "cell_type": "code",
   "execution_count": 26,
   "metadata": {},
   "outputs": [
    {
     "name": "stdout",
     "output_type": "stream",
     "text": [
      "16/16 [==============================] - 0s 25ms/step - loss: 1.2602 - accuracy: 0.5749 - f1_score: 0.2209 - precision: 1.0000 - recall: 0.1243\n",
      "Test Score: 1.2601966857910156\n",
      "Test Accuracy: 0.57485032081604\n",
      "F-1 score 0.22094234824180603\n",
      "Precision 1.0\n",
      "Recall 0.1243024542927742\n"
     ]
    }
   ],
   "source": [
    "#evalate the model and print metrics values \n",
    "sc = model.evaluate(x=[X_test], y=Y_test, verbose=1)\n",
    "print(\"Test Score:\", sc[0])\n",
    "print(\"Test Accuracy:\", sc[1])\n",
    "print(\"F-1 score\", sc[2])\n",
    "print(\"Precision\", sc[3])\n",
    "print(\"Recall\", sc[4])"
   ]
  },
  {
   "cell_type": "code",
   "execution_count": 27,
   "metadata": {},
   "outputs": [
    {
     "name": "stdout",
     "output_type": "stream",
     "text": [
      "WARNING:tensorflow:From <ipython-input-27-01c16f5d5021>:6: Sequential.predict_classes (from tensorflow.python.keras.engine.sequential) is deprecated and will be removed after 2021-01-01.\n",
      "Instructions for updating:\n",
      "Please use instead:* `np.argmax(model.predict(x), axis=-1)`,   if your model does multi-class classification   (e.g. if it uses a `softmax` last-layer activation).* `(model.predict(x) > 0.5).astype(\"int32\")`,   if your model does binary classification   (e.g. if it uses a `sigmoid` last-layer activation).\n",
      "              precision    recall  f1-score   support\n",
      "\n",
      "           0       0.70      0.51      0.59        79\n",
      "           1       0.51      0.48      0.49        82\n",
      "           2       0.70      0.51      0.59       110\n",
      "           3       0.34      0.60      0.43        73\n",
      "           4       0.48      0.48      0.48        84\n",
      "           5       0.95      0.95      0.95        73\n",
      "\n",
      "    accuracy                           0.57       501\n",
      "   macro avg       0.61      0.59      0.59       501\n",
      "weighted avg       0.61      0.57      0.58       501\n",
      "\n"
     ]
    }
   ],
   "source": [
    "#print the metrics per class\n",
    "from sklearn.metrics import classification_report\n",
    "import numpy as np\n",
    "\n",
    "y_test = np.argmax(Y_test, axis=1) # Convert one-hot encoding to index \n",
    "y_pred = model.predict_classes(X_test)\n",
    "print(classification_report(y_test, y_pred))"
   ]
  },
  {
   "cell_type": "code",
   "execution_count": 28,
   "metadata": {},
   "outputs": [
    {
     "data": {
      "image/png": "[encoded data removed]",
      "text/plain": [
       "<Figure size 432x288 with 1 Axes>"
      ]
     },
     "metadata": {
      "needs_background": "light"
     },
     "output_type": "display_data"
    },
    {
     "data": {
      "image/png": "[encoded data removed]",
      "text/plain": [
       "<Figure size 432x288 with 1 Axes>"
      ]
     },
     "metadata": {
      "needs_background": "light"
     },
     "output_type": "display_data"
    }
   ],
   "source": [
    "plt.plot(lstm_m.history['accuracy'])\n",
    "plt.plot(lstm_m.history['val_accuracy'])\n",
    "\n",
    "plt.title('Model accuracy for commit message as input')\n",
    "plt.ylabel('accuracy')\n",
    "plt.xlabel('epoch')\n",
    "plt.legend(['train','test'], loc='upper left')\n",
    "plt.show()\n",
    "\n",
    "plt.plot(lstm_m.history['loss'])\n",
    "plt.plot(lstm_m.history['val_loss'])\n",
    "\n",
    "plt.title('Model loss model accuracy for commit message as input')\n",
    "plt.ylabel('loss')\n",
    "plt.xlabel('epoch')\n",
    "plt.legend(['train','test'], loc='upper left')\n",
    "plt.show()"
   ]
  }
 ],
 "metadata": {
  "kernelspec": {
   "display_name": "Python 3",
   "language": "python",
   "name": "python3"
  },
  "language_info": {
   "codemirror_mode": {
    "name": "ipython",
    "version": 3
   },
   "file_extension": ".py",
   "mimetype": "text/x-python",
   "name": "python",
   "nbconvert_exporter": "python",
   "pygments_lexer": "ipython3",
   "version": "3.8.3"
  }
 },
 "nbformat": 4,
 "nbformat_minor": 4
}
