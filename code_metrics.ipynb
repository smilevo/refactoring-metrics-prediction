{
 "cells": [
  {
   "cell_type": "code",
   "execution_count": 14,
   "metadata": {},
   "outputs": [],
   "source": [
    "#predict class based on metrics\n",
    "import pandas as pd\n",
    "import numpy as np \n",
    "df_c = pd.read_csv('C:/Users/Priya/Desktop/IndependentStudy/commit_metrics.csv')"
   ]
  },
  {
   "cell_type": "code",
   "execution_count": 15,
   "metadata": {},
   "outputs": [
    {
     "data": {
      "text/html": [
       "<div>\n",
       "<style scoped>\n",
       "    .dataframe tbody tr th:only-of-type {\n",
       "        vertical-align: middle;\n",
       "    }\n",
       "\n",
       "    .dataframe tbody tr th {\n",
       "        vertical-align: top;\n",
       "    }\n",
       "\n",
       "    .dataframe thead th {\n",
       "        text-align: right;\n",
       "    }\n",
       "</style>\n",
       "<table border=\"1\" class=\"dataframe\">\n",
       "  <thead>\n",
       "    <tr style=\"text-align: right;\">\n",
       "      <th></th>\n",
       "      <th>Class</th>\n",
       "      <th>AvgCyclomatic</th>\n",
       "      <th>AvgCyclomaticModified</th>\n",
       "      <th>AvgCyclomaticStrict</th>\n",
       "      <th>AvgEssential</th>\n",
       "      <th>AvgLine</th>\n",
       "      <th>AvgLineBlank</th>\n",
       "      <th>AvgLineCode</th>\n",
       "      <th>AvgLineComment</th>\n",
       "      <th>CountClassBase</th>\n",
       "      <th>...</th>\n",
       "      <th>MaxInheritanceTree</th>\n",
       "      <th>MaxNesting</th>\n",
       "      <th>MinEssentialKnots</th>\n",
       "      <th>PercentLackOfCohesion</th>\n",
       "      <th>PercentLackOfCohesionModified</th>\n",
       "      <th>RatioCommentToCode</th>\n",
       "      <th>SumCyclomatic</th>\n",
       "      <th>SumCyclomaticModified</th>\n",
       "      <th>SumCyclomaticStrict</th>\n",
       "      <th>SumEssential</th>\n",
       "    </tr>\n",
       "  </thead>\n",
       "  <tbody>\n",
       "    <tr>\n",
       "      <th>0</th>\n",
       "      <td>extract</td>\n",
       "      <td>0.0</td>\n",
       "      <td>0.0</td>\n",
       "      <td>0.0</td>\n",
       "      <td>0.0</td>\n",
       "      <td>0.1</td>\n",
       "      <td>0.0</td>\n",
       "      <td>0.0</td>\n",
       "      <td>0.0</td>\n",
       "      <td>0.0</td>\n",
       "      <td>...</td>\n",
       "      <td>0.0</td>\n",
       "      <td>0.0</td>\n",
       "      <td>0.0</td>\n",
       "      <td>0.0</td>\n",
       "      <td>0.0</td>\n",
       "      <td>0.0</td>\n",
       "      <td>0.0</td>\n",
       "      <td>0.0</td>\n",
       "      <td>0.0</td>\n",
       "      <td>0.0</td>\n",
       "    </tr>\n",
       "    <tr>\n",
       "      <th>1</th>\n",
       "      <td>extract</td>\n",
       "      <td>0.5</td>\n",
       "      <td>0.0</td>\n",
       "      <td>0.0</td>\n",
       "      <td>0.0</td>\n",
       "      <td>0.0</td>\n",
       "      <td>0.0</td>\n",
       "      <td>0.0</td>\n",
       "      <td>0.0</td>\n",
       "      <td>0.0</td>\n",
       "      <td>...</td>\n",
       "      <td>0.0</td>\n",
       "      <td>0.0</td>\n",
       "      <td>0.0</td>\n",
       "      <td>0.0</td>\n",
       "      <td>0.0</td>\n",
       "      <td>0.0</td>\n",
       "      <td>0.1</td>\n",
       "      <td>0.1</td>\n",
       "      <td>0.1</td>\n",
       "      <td>0.1</td>\n",
       "    </tr>\n",
       "    <tr>\n",
       "      <th>2</th>\n",
       "      <td>extract</td>\n",
       "      <td>0.0</td>\n",
       "      <td>0.0</td>\n",
       "      <td>0.0</td>\n",
       "      <td>0.0</td>\n",
       "      <td>0.0</td>\n",
       "      <td>0.0</td>\n",
       "      <td>0.0</td>\n",
       "      <td>0.0</td>\n",
       "      <td>0.0</td>\n",
       "      <td>...</td>\n",
       "      <td>0.0</td>\n",
       "      <td>0.0</td>\n",
       "      <td>0.0</td>\n",
       "      <td>0.0</td>\n",
       "      <td>0.0</td>\n",
       "      <td>0.0</td>\n",
       "      <td>0.0</td>\n",
       "      <td>0.0</td>\n",
       "      <td>0.0</td>\n",
       "      <td>0.0</td>\n",
       "    </tr>\n",
       "    <tr>\n",
       "      <th>3</th>\n",
       "      <td>extract</td>\n",
       "      <td>0.0</td>\n",
       "      <td>0.0</td>\n",
       "      <td>0.0</td>\n",
       "      <td>0.0</td>\n",
       "      <td>0.0</td>\n",
       "      <td>0.0</td>\n",
       "      <td>0.0</td>\n",
       "      <td>0.0</td>\n",
       "      <td>0.0</td>\n",
       "      <td>...</td>\n",
       "      <td>0.0</td>\n",
       "      <td>0.0</td>\n",
       "      <td>0.0</td>\n",
       "      <td>0.0</td>\n",
       "      <td>0.0</td>\n",
       "      <td>0.0</td>\n",
       "      <td>0.0</td>\n",
       "      <td>0.0</td>\n",
       "      <td>0.0</td>\n",
       "      <td>0.0</td>\n",
       "    </tr>\n",
       "    <tr>\n",
       "      <th>4</th>\n",
       "      <td>extract</td>\n",
       "      <td>0.0</td>\n",
       "      <td>0.0</td>\n",
       "      <td>0.0</td>\n",
       "      <td>0.0</td>\n",
       "      <td>0.0</td>\n",
       "      <td>0.0</td>\n",
       "      <td>0.0</td>\n",
       "      <td>0.0</td>\n",
       "      <td>0.0</td>\n",
       "      <td>...</td>\n",
       "      <td>0.0</td>\n",
       "      <td>0.0</td>\n",
       "      <td>0.0</td>\n",
       "      <td>0.0</td>\n",
       "      <td>0.0</td>\n",
       "      <td>0.0</td>\n",
       "      <td>0.0</td>\n",
       "      <td>0.0</td>\n",
       "      <td>0.0</td>\n",
       "      <td>0.0</td>\n",
       "    </tr>\n",
       "    <tr>\n",
       "      <th>...</th>\n",
       "      <td>...</td>\n",
       "      <td>...</td>\n",
       "      <td>...</td>\n",
       "      <td>...</td>\n",
       "      <td>...</td>\n",
       "      <td>...</td>\n",
       "      <td>...</td>\n",
       "      <td>...</td>\n",
       "      <td>...</td>\n",
       "      <td>...</td>\n",
       "      <td>...</td>\n",
       "      <td>...</td>\n",
       "      <td>...</td>\n",
       "      <td>...</td>\n",
       "      <td>...</td>\n",
       "      <td>...</td>\n",
       "      <td>...</td>\n",
       "      <td>...</td>\n",
       "      <td>...</td>\n",
       "      <td>...</td>\n",
       "      <td>...</td>\n",
       "    </tr>\n",
       "    <tr>\n",
       "      <th>3308</th>\n",
       "      <td>rename</td>\n",
       "      <td>0.0</td>\n",
       "      <td>0.0</td>\n",
       "      <td>0.0</td>\n",
       "      <td>0.0</td>\n",
       "      <td>0.0</td>\n",
       "      <td>0.0</td>\n",
       "      <td>0.0</td>\n",
       "      <td>0.0</td>\n",
       "      <td>0.0</td>\n",
       "      <td>...</td>\n",
       "      <td>0.0</td>\n",
       "      <td>0.0</td>\n",
       "      <td>0.0</td>\n",
       "      <td>0.0</td>\n",
       "      <td>0.0</td>\n",
       "      <td>0.0</td>\n",
       "      <td>0.0</td>\n",
       "      <td>0.0</td>\n",
       "      <td>0.0</td>\n",
       "      <td>0.0</td>\n",
       "    </tr>\n",
       "    <tr>\n",
       "      <th>3309</th>\n",
       "      <td>rename</td>\n",
       "      <td>0.0</td>\n",
       "      <td>0.0</td>\n",
       "      <td>0.0</td>\n",
       "      <td>0.0</td>\n",
       "      <td>0.0</td>\n",
       "      <td>0.0</td>\n",
       "      <td>0.0</td>\n",
       "      <td>0.0</td>\n",
       "      <td>0.0</td>\n",
       "      <td>...</td>\n",
       "      <td>0.0</td>\n",
       "      <td>0.0</td>\n",
       "      <td>0.0</td>\n",
       "      <td>0.0</td>\n",
       "      <td>0.0</td>\n",
       "      <td>0.0</td>\n",
       "      <td>0.0</td>\n",
       "      <td>0.0</td>\n",
       "      <td>0.0</td>\n",
       "      <td>0.0</td>\n",
       "    </tr>\n",
       "    <tr>\n",
       "      <th>3310</th>\n",
       "      <td>rename</td>\n",
       "      <td>0.0</td>\n",
       "      <td>0.0</td>\n",
       "      <td>0.0</td>\n",
       "      <td>0.0</td>\n",
       "      <td>0.0</td>\n",
       "      <td>0.0</td>\n",
       "      <td>0.0</td>\n",
       "      <td>0.0</td>\n",
       "      <td>0.0</td>\n",
       "      <td>...</td>\n",
       "      <td>0.0</td>\n",
       "      <td>0.0</td>\n",
       "      <td>0.0</td>\n",
       "      <td>0.0</td>\n",
       "      <td>0.0</td>\n",
       "      <td>0.0</td>\n",
       "      <td>0.0</td>\n",
       "      <td>0.0</td>\n",
       "      <td>0.0</td>\n",
       "      <td>0.0</td>\n",
       "    </tr>\n",
       "    <tr>\n",
       "      <th>3311</th>\n",
       "      <td>rename</td>\n",
       "      <td>0.0</td>\n",
       "      <td>0.0</td>\n",
       "      <td>0.0</td>\n",
       "      <td>0.0</td>\n",
       "      <td>0.0</td>\n",
       "      <td>0.0</td>\n",
       "      <td>0.0</td>\n",
       "      <td>0.0</td>\n",
       "      <td>0.0</td>\n",
       "      <td>...</td>\n",
       "      <td>0.0</td>\n",
       "      <td>0.0</td>\n",
       "      <td>0.0</td>\n",
       "      <td>0.0</td>\n",
       "      <td>0.0</td>\n",
       "      <td>0.0</td>\n",
       "      <td>0.0</td>\n",
       "      <td>0.0</td>\n",
       "      <td>0.0</td>\n",
       "      <td>0.0</td>\n",
       "    </tr>\n",
       "    <tr>\n",
       "      <th>3312</th>\n",
       "      <td>rename</td>\n",
       "      <td>0.0</td>\n",
       "      <td>0.0</td>\n",
       "      <td>0.0</td>\n",
       "      <td>0.0</td>\n",
       "      <td>0.0</td>\n",
       "      <td>0.0</td>\n",
       "      <td>0.0</td>\n",
       "      <td>0.0</td>\n",
       "      <td>0.0</td>\n",
       "      <td>...</td>\n",
       "      <td>0.0</td>\n",
       "      <td>0.0</td>\n",
       "      <td>0.0</td>\n",
       "      <td>0.0</td>\n",
       "      <td>0.0</td>\n",
       "      <td>0.0</td>\n",
       "      <td>0.0</td>\n",
       "      <td>0.0</td>\n",
       "      <td>0.0</td>\n",
       "      <td>0.0</td>\n",
       "    </tr>\n",
       "  </tbody>\n",
       "</table>\n",
       "<p>3313 rows × 61 columns</p>\n",
       "</div>"
      ],
      "text/plain": [
       "        Class  AvgCyclomatic  AvgCyclomaticModified  AvgCyclomaticStrict  \\\n",
       "0     extract            0.0                    0.0                  0.0   \n",
       "1     extract            0.5                    0.0                  0.0   \n",
       "2     extract            0.0                    0.0                  0.0   \n",
       "3     extract            0.0                    0.0                  0.0   \n",
       "4     extract            0.0                    0.0                  0.0   \n",
       "...       ...            ...                    ...                  ...   \n",
       "3308   rename            0.0                    0.0                  0.0   \n",
       "3309   rename            0.0                    0.0                  0.0   \n",
       "3310   rename            0.0                    0.0                  0.0   \n",
       "3311   rename            0.0                    0.0                  0.0   \n",
       "3312   rename            0.0                    0.0                  0.0   \n",
       "\n",
       "      AvgEssential  AvgLine  AvgLineBlank  AvgLineCode  AvgLineComment  \\\n",
       "0              0.0      0.1           0.0          0.0             0.0   \n",
       "1              0.0      0.0           0.0          0.0             0.0   \n",
       "2              0.0      0.0           0.0          0.0             0.0   \n",
       "3              0.0      0.0           0.0          0.0             0.0   \n",
       "4              0.0      0.0           0.0          0.0             0.0   \n",
       "...            ...      ...           ...          ...             ...   \n",
       "3308           0.0      0.0           0.0          0.0             0.0   \n",
       "3309           0.0      0.0           0.0          0.0             0.0   \n",
       "3310           0.0      0.0           0.0          0.0             0.0   \n",
       "3311           0.0      0.0           0.0          0.0             0.0   \n",
       "3312           0.0      0.0           0.0          0.0             0.0   \n",
       "\n",
       "      CountClassBase  ...  MaxInheritanceTree  MaxNesting  MinEssentialKnots  \\\n",
       "0                0.0  ...                 0.0         0.0                0.0   \n",
       "1                0.0  ...                 0.0         0.0                0.0   \n",
       "2                0.0  ...                 0.0         0.0                0.0   \n",
       "3                0.0  ...                 0.0         0.0                0.0   \n",
       "4                0.0  ...                 0.0         0.0                0.0   \n",
       "...              ...  ...                 ...         ...                ...   \n",
       "3308             0.0  ...                 0.0         0.0                0.0   \n",
       "3309             0.0  ...                 0.0         0.0                0.0   \n",
       "3310             0.0  ...                 0.0         0.0                0.0   \n",
       "3311             0.0  ...                 0.0         0.0                0.0   \n",
       "3312             0.0  ...                 0.0         0.0                0.0   \n",
       "\n",
       "      PercentLackOfCohesion  PercentLackOfCohesionModified  \\\n",
       "0                       0.0                            0.0   \n",
       "1                       0.0                            0.0   \n",
       "2                       0.0                            0.0   \n",
       "3                       0.0                            0.0   \n",
       "4                       0.0                            0.0   \n",
       "...                     ...                            ...   \n",
       "3308                    0.0                            0.0   \n",
       "3309                    0.0                            0.0   \n",
       "3310                    0.0                            0.0   \n",
       "3311                    0.0                            0.0   \n",
       "3312                    0.0                            0.0   \n",
       "\n",
       "      RatioCommentToCode  SumCyclomatic  SumCyclomaticModified  \\\n",
       "0                    0.0            0.0                    0.0   \n",
       "1                    0.0            0.1                    0.1   \n",
       "2                    0.0            0.0                    0.0   \n",
       "3                    0.0            0.0                    0.0   \n",
       "4                    0.0            0.0                    0.0   \n",
       "...                  ...            ...                    ...   \n",
       "3308                 0.0            0.0                    0.0   \n",
       "3309                 0.0            0.0                    0.0   \n",
       "3310                 0.0            0.0                    0.0   \n",
       "3311                 0.0            0.0                    0.0   \n",
       "3312                 0.0            0.0                    0.0   \n",
       "\n",
       "      SumCyclomaticStrict  SumEssential  \n",
       "0                     0.0           0.0  \n",
       "1                     0.1           0.1  \n",
       "2                     0.0           0.0  \n",
       "3                     0.0           0.0  \n",
       "4                     0.0           0.0  \n",
       "...                   ...           ...  \n",
       "3308                  0.0           0.0  \n",
       "3309                  0.0           0.0  \n",
       "3310                  0.0           0.0  \n",
       "3311                  0.0           0.0  \n",
       "3312                  0.0           0.0  \n",
       "\n",
       "[3313 rows x 61 columns]"
      ]
     },
     "execution_count": 15,
     "metadata": {},
     "output_type": "execute_result"
    }
   ],
   "source": [
    "df_c"
   ]
  },
  {
   "cell_type": "code",
   "execution_count": 16,
   "metadata": {},
   "outputs": [],
   "source": [
    "df_c.fillna(df_c.mean(), inplace=True)"
   ]
  },
  {
   "cell_type": "code",
   "execution_count": 4,
   "metadata": {},
   "outputs": [],
   "source": [
    "#drop NA\n",
    "df_c=df_c.dropna()"
   ]
  },
  {
   "cell_type": "code",
   "execution_count": 17,
   "metadata": {},
   "outputs": [],
   "source": [
    "#randomie the dataset \n",
    "df_c= df_c.sample(frac=1)"
   ]
  },
  {
   "cell_type": "code",
   "execution_count": 18,
   "metadata": {},
   "outputs": [
    {
     "data": {
      "text/plain": [
       "rename        1253\n",
       "pull up       1018\n",
       "push down      372\n",
       "extract        333\n",
       "move           215\n",
       "inline         122\n",
       "Name: Class, dtype: int64"
      ]
     },
     "execution_count": 18,
     "metadata": {},
     "output_type": "execute_result"
    }
   ],
   "source": [
    "#there are 6 classes\n",
    "df_c['Class'].value_counts()"
   ]
  },
  {
   "cell_type": "code",
   "execution_count": 19,
   "metadata": {},
   "outputs": [
    {
     "name": "stdout",
     "output_type": "stream",
     "text": [
      "(3313, 60)\n",
      "(3313,)\n"
     ]
    }
   ],
   "source": [
    "# split train input and output data\n",
    "X = df_c.drop(axis=0, columns=['Class'])\n",
    "Y = df_c['Class']\n",
    "\n",
    "#Print the shape of X and Y\n",
    "print(X.shape)\n",
    "print(Y.shape)"
   ]
  },
  {
   "cell_type": "code",
   "execution_count": 9,
   "metadata": {},
   "outputs": [],
   "source": [
    "from sklearn.model_selection import train_test_split\n",
    "\n",
    "# Split into training and test sets\n",
    "X_train, X_test, y_train, y_test = train_test_split(X, Y, test_size=0.33, random_state=42)"
   ]
  },
  {
   "cell_type": "code",
   "execution_count": 40,
   "metadata": {},
   "outputs": [],
   "source": [
    "from sklearn.feature_extraction.text import CountVectorizer\n",
    "from sklearn.ensemble import RandomForestClassifier\n",
    "from sklearn import datasets\n",
    "#clf = RandomForestClassifier()  #accuracy was 77\n",
    "clf = RandomForestClassifier(class_weight=\"balanced\") "
   ]
  },
  {
   "cell_type": "code",
   "execution_count": 41,
   "metadata": {},
   "outputs": [
    {
     "data": {
      "text/plain": [
       "RandomForestClassifier()"
      ]
     },
     "execution_count": 41,
     "metadata": {},
     "output_type": "execute_result"
    }
   ],
   "source": [
    "from sklearn import model_selection\n",
    "# random forest model creation\n",
    "rfc = RandomForestClassifier()\n",
    "rfc.fit(X_train,y_train)"
   ]
  },
  {
   "cell_type": "code",
   "execution_count": 42,
   "metadata": {},
   "outputs": [],
   "source": [
    "rfc_predict = rfc.predict(X_test)"
   ]
  },
  {
   "cell_type": "code",
   "execution_count": 15,
   "metadata": {},
   "outputs": [
    {
     "data": {
      "text/plain": [
       "array(['rename', 'rename', 'rename', 'rename', 'rename', 'rename',\n",
       "       'rename', 'pull up', 'push down ', 'rename', 'pull up', 'pull up',\n",
       "       'rename', 'pull up', 'rename', 'rename', 'rename', 'pull up',\n",
       "       'rename', 'rename', 'rename', 'push down ', 'rename', 'push down ',\n",
       "       'push down ', 'push down ', 'rename', 'rename', 'rename', 'rename',\n",
       "       'rename', 'rename', 'rename', 'move', 'rename', 'rename',\n",
       "       'pull up', 'rename', 'rename', 'rename', 'rename', 'rename',\n",
       "       'pull up', 'rename', 'move', 'push down ', 'rename', 'extract',\n",
       "       'push down ', 'rename', 'rename', 'rename', 'rename', 'rename',\n",
       "       'pull up', 'rename', 'rename', 'rename', 'pull up', 'move',\n",
       "       'pull up', 'extract', 'rename', 'rename', 'rename', 'rename',\n",
       "       'rename', 'rename', 'push down ', 'rename', 'rename', 'pull up',\n",
       "       'pull up', 'move', 'rename', 'pull up', 'rename', 'push down ',\n",
       "       'pull up', 'pull up', 'rename', 'rename', 'rename', 'rename',\n",
       "       'rename', 'rename', 'rename', 'pull up', 'pull up', 'rename',\n",
       "       'rename', 'rename', 'rename', 'push down ', 'rename', 'rename',\n",
       "       'rename', 'rename', 'rename', 'pull up', 'rename', 'rename',\n",
       "       'rename', 'rename', 'rename', 'pull up', 'rename', 'rename',\n",
       "       'rename', 'rename', 'pull up', 'pull up', 'rename', 'rename',\n",
       "       'rename', 'move', 'rename', 'pull up', 'rename', 'extract',\n",
       "       'pull up', 'rename', 'rename', 'rename', 'rename', 'rename',\n",
       "       'rename', 'extract', 'rename', 'move', 'rename', 'rename',\n",
       "       'rename', 'rename', 'rename', 'rename', 'move', 'move', 'pull up',\n",
       "       'rename', 'rename', 'rename', 'rename', 'rename', 'rename',\n",
       "       'rename', 'rename', 'move', 'push down ', 'rename', 'pull up',\n",
       "       'pull up', 'rename', 'rename', 'pull up', 'rename', 'rename',\n",
       "       'rename', 'pull up', 'pull up', 'rename', 'rename', 'rename',\n",
       "       'rename', 'push down ', 'rename', 'pull up', 'rename', 'rename',\n",
       "       'pull up', 'pull up', 'rename', 'rename', 'rename', 'extract',\n",
       "       'rename', 'rename', 'rename', 'push down ', 'rename', 'rename',\n",
       "       'rename', 'pull up', 'rename', 'rename', 'rename', 'rename',\n",
       "       'rename', 'rename', 'pull up', 'rename', 'rename', 'rename',\n",
       "       'rename', 'rename', 'rename', 'move', 'rename', 'rename',\n",
       "       'extract', 'push down ', 'rename', 'rename', 'rename', 'rename',\n",
       "       'push down ', 'rename', 'rename', 'push down ', 'rename',\n",
       "       'pull up', 'rename', 'rename', 'rename', 'rename', 'extract',\n",
       "       'move', 'rename', 'rename', 'rename', 'rename', 'rename', 'rename',\n",
       "       'move', 'rename', 'rename', 'rename', 'pull up', 'rename',\n",
       "       'rename', 'rename', 'pull up', 'rename', 'rename', 'pull up',\n",
       "       'rename', 'rename', 'rename', 'rename', 'rename', 'rename',\n",
       "       'rename', 'move', 'rename', 'rename', 'push down ', 'rename',\n",
       "       'rename', 'rename', 'move', 'push down ', 'rename', 'push down ',\n",
       "       'rename', 'rename', 'rename', 'rename', 'rename', 'pull up',\n",
       "       'rename', 'rename', 'rename', 'pull up', 'push down ', 'rename',\n",
       "       'rename', 'rename', 'pull up', 'rename', 'rename', 'pull up',\n",
       "       'rename', 'rename', 'rename', 'rename', 'rename', 'rename',\n",
       "       'pull up', 'rename', 'rename', 'pull up', 'rename', 'push down ',\n",
       "       'pull up', 'rename', 'pull up', 'rename', 'pull up', 'rename',\n",
       "       'rename', 'rename', 'rename', 'rename', 'rename', 'rename',\n",
       "       'rename', 'extract', 'pull up', 'rename', 'rename', 'push down ',\n",
       "       'pull up', 'rename', 'rename', 'rename', 'push down ', 'rename',\n",
       "       'rename', 'rename', 'pull up', 'rename', 'rename', 'rename',\n",
       "       'rename', 'rename', 'move', 'rename', 'rename', 'pull up',\n",
       "       'rename', 'rename', 'move', 'rename', 'rename', 'rename',\n",
       "       'extract', 'push down ', 'rename', 'rename', 'move', 'rename',\n",
       "       'rename', 'pull up', 'rename', 'pull up', 'move', 'push down ',\n",
       "       'rename', 'rename', 'rename', 'move', 'pull up', 'push down ',\n",
       "       'rename', 'rename', 'pull up', 'rename', 'rename', 'rename',\n",
       "       'rename', 'rename', 'pull up', 'rename', 'pull up', 'rename',\n",
       "       'rename', 'rename', 'pull up', 'rename', 'rename', 'pull up',\n",
       "       'rename', 'rename', 'rename', 'rename', 'rename', 'rename',\n",
       "       'rename', 'rename', 'rename', 'rename', 'move', 'rename', 'rename',\n",
       "       'pull up', 'pull up', 'push down ', 'extract', 'rename', 'rename',\n",
       "       'rename', 'rename', 'rename', 'rename', 'rename', 'rename',\n",
       "       'rename', 'rename', 'rename', 'rename', 'rename', 'rename',\n",
       "       'rename', 'rename', 'rename', 'pull up', 'pull up', 'rename',\n",
       "       'extract', 'rename', 'rename', 'pull up', 'rename', 'rename',\n",
       "       'move', 'rename', 'rename', 'rename', 'rename', 'rename',\n",
       "       'push down ', 'rename', 'extract', 'rename', 'rename', 'rename',\n",
       "       'rename', 'push down ', 'pull up', 'push down ', 'rename',\n",
       "       'rename', 'pull up', 'rename', 'rename', 'rename', 'pull up',\n",
       "       'rename', 'rename', 'rename', 'push down ', 'rename', 'pull up',\n",
       "       'rename', 'rename', 'rename', 'rename', 'rename', 'rename',\n",
       "       'rename', 'push down ', 'pull up', 'push down ', 'rename',\n",
       "       'rename', 'rename', 'rename', 'move', 'push down ', 'push down ',\n",
       "       'rename', 'rename', 'rename', 'rename', 'pull up', 'rename',\n",
       "       'push down ', 'rename', 'push down ', 'pull up', 'rename',\n",
       "       'rename', 'rename', 'rename', 'rename', 'rename', 'pull up',\n",
       "       'pull up', 'rename', 'rename', 'rename', 'rename', 'pull up',\n",
       "       'rename', 'pull up', 'rename', 'pull up', 'move', 'rename',\n",
       "       'rename', 'pull up', 'rename', 'rename', 'pull up', 'rename',\n",
       "       'pull up', 'rename', 'pull up', 'rename', 'rename', 'rename',\n",
       "       'rename', 'rename', 'pull up', 'rename', 'push down ', 'rename',\n",
       "       'move', 'rename', 'rename', 'rename', 'pull up', 'push down ',\n",
       "       'push down ', 'rename', 'rename', 'rename', 'pull up', 'rename',\n",
       "       'pull up', 'move', 'rename', 'push down ', 'push down ', 'rename',\n",
       "       'rename', 'pull up', 'rename', 'rename', 'rename', 'rename',\n",
       "       'rename', 'rename', 'pull up', 'extract', 'push down ', 'pull up',\n",
       "       'rename', 'rename', 'rename', 'pull up', 'rename', 'rename',\n",
       "       'rename', 'rename', 'rename', 'rename', 'rename', 'rename',\n",
       "       'rename', 'rename', 'pull up', 'rename', 'rename', 'pull up',\n",
       "       'rename', 'pull up', 'pull up', 'rename', 'rename', 'pull up',\n",
       "       'rename', 'rename', 'rename', 'rename', 'rename', 'pull up',\n",
       "       'rename', 'rename', 'rename', 'rename', 'move', 'rename', 'rename',\n",
       "       'rename', 'rename', 'rename', 'rename', 'rename', 'rename',\n",
       "       'rename', 'rename', 'rename', 'pull up', 'rename', 'rename',\n",
       "       'pull up', 'rename', 'rename', 'rename', 'rename', 'rename',\n",
       "       'rename', 'rename', 'push down ', 'extract', 'rename', 'extract',\n",
       "       'rename', 'extract', 'rename', 'push down ', 'push down ',\n",
       "       'rename', 'rename', 'pull up', 'pull up', 'rename', 'rename',\n",
       "       'pull up', 'rename', 'rename', 'rename', 'rename', 'rename',\n",
       "       'rename', 'rename', 'rename', 'extract', 'pull up', 'rename',\n",
       "       'rename', 'rename', 'rename', 'pull up', 'rename', 'pull up',\n",
       "       'rename', 'rename', 'rename', 'rename', 'rename', 'pull up',\n",
       "       'rename', 'rename', 'rename', 'rename', 'push down ', 'rename',\n",
       "       'pull up', 'extract', 'extract', 'pull up', 'rename', 'rename',\n",
       "       'rename', 'rename', 'rename', 'pull up', 'rename', 'pull up',\n",
       "       'rename', 'rename', 'rename', 'pull up', 'rename', 'rename',\n",
       "       'rename', 'rename', 'rename', 'rename', 'rename', 'rename',\n",
       "       'rename', 'move', 'rename', 'rename', 'extract', 'pull up',\n",
       "       'rename', 'extract', 'move', 'rename', 'move', 'rename', 'rename',\n",
       "       'rename', 'pull up', 'rename', 'rename', 'push down ', 'rename',\n",
       "       'rename', 'rename', 'pull up', 'rename', 'pull up', 'move',\n",
       "       'rename', 'rename', 'rename', 'rename', 'rename', 'move',\n",
       "       'pull up', 'pull up', 'rename', 'rename', 'rename', 'rename',\n",
       "       'rename', 'rename', 'rename', 'extract', 'rename', 'rename',\n",
       "       'pull up', 'rename', 'pull up', 'rename', 'rename', 'rename',\n",
       "       'rename', 'rename', 'rename', 'rename', 'rename', 'move',\n",
       "       'push down ', 'move', 'move', 'rename', 'rename', 'pull up',\n",
       "       'push down ', 'rename', 'rename', 'rename', 'rename', 'rename',\n",
       "       'rename', 'rename', 'rename', 'rename', 'rename', 'rename',\n",
       "       'rename', 'rename', 'rename', 'rename', 'rename', 'rename',\n",
       "       'rename', 'rename', 'move', 'rename', 'push down ', 'rename',\n",
       "       'rename', 'push down ', 'move', 'rename', 'rename', 'rename',\n",
       "       'rename', 'rename', 'rename', 'rename', 'rename', 'rename',\n",
       "       'rename', 'rename', 'push down ', 'rename', 'push down ', 'rename',\n",
       "       'rename', 'rename', 'pull up', 'rename', 'rename', 'rename',\n",
       "       'rename', 'pull up', 'rename', 'rename', 'rename', 'rename',\n",
       "       'rename', 'move', 'pull up', 'rename', 'rename', 'move', 'rename',\n",
       "       'rename', 'push down ', 'rename'], dtype=object)"
      ]
     },
     "execution_count": 15,
     "metadata": {},
     "output_type": "execute_result"
    }
   ],
   "source": [
    "rfc_predict"
   ]
  },
  {
   "cell_type": "code",
   "execution_count": 43,
   "metadata": {},
   "outputs": [
    {
     "name": "stdout",
     "output_type": "stream",
     "text": [
      "              precision    recall  f1-score   support\n",
      "\n",
      "     extract       0.60      0.38      0.46        98\n",
      "      inline       1.00      0.95      0.97        61\n",
      "        move       0.74      0.38      0.50        76\n",
      "     pull up       0.71      0.66      0.68       359\n",
      "  push down        0.77      0.49      0.60       131\n",
      "      rename       0.69      0.97      0.81       369\n",
      "\n",
      "    accuracy                           0.72      1094\n",
      "   macro avg       0.75      0.64      0.67      1094\n",
      "weighted avg       0.72      0.72      0.70      1094\n",
      "\n",
      "\n",
      "\n"
     ]
    }
   ],
   "source": [
    "from sklearn.model_selection import cross_val_score\n",
    "from sklearn.metrics import classification_report, confusion_matrix\n",
    "print(classification_report(y_test, rfc_predict))\n",
    "print('\\n')"
   ]
  },
  {
   "cell_type": "code",
   "execution_count": 27,
   "metadata": {},
   "outputs": [],
   "source": [
    "#SMOTE for multi-class classification of imbalanced dataset\n",
    "import imblearn"
   ]
  },
  {
   "cell_type": "code",
   "execution_count": 21,
   "metadata": {},
   "outputs": [],
   "source": [
    "from pandas import read_csv\n",
    "from imblearn.over_sampling import SMOTE\n",
    "from collections import Counter\n",
    "from matplotlib import pyplot\n",
    "from sklearn.preprocessing import LabelEncoder"
   ]
  },
  {
   "cell_type": "code",
   "execution_count": 22,
   "metadata": {},
   "outputs": [
    {
     "name": "stdout",
     "output_type": "stream",
     "text": [
      "(3313, 60)\n",
      "(3313,)\n"
     ]
    }
   ],
   "source": [
    "#https://towardsdatascience.com/how-to-handle-multiclass-imbalanced-data-say-no-to-smote-e9a7f393c310\n",
    "# split train input and output data\n",
    "X = df_c.drop(axis=0, columns=['Class'])\n",
    "Y = df_c['Class']\n",
    "\n",
    "#Print the shape of X and Y\n",
    "print(X.shape)\n",
    "print(Y.shape)"
   ]
  },
  {
   "cell_type": "code",
   "execution_count": 23,
   "metadata": {},
   "outputs": [],
   "source": [
    "sm = SMOTE(random_state=42)"
   ]
  },
  {
   "cell_type": "code",
   "execution_count": 24,
   "metadata": {},
   "outputs": [],
   "source": [
    "X_n, y_n = sm.fit_resample(X, Y)"
   ]
  },
  {
   "cell_type": "code",
   "execution_count": 25,
   "metadata": {},
   "outputs": [],
   "source": [
    "from sklearn.model_selection import train_test_split\n",
    "\n",
    "# Split into training and test sets\n",
    "X_train, X_test, y_train, y_test = train_test_split(X_n, y_n, test_size=0.33, random_state=42)"
   ]
  },
  {
   "cell_type": "code",
   "execution_count": 33,
   "metadata": {},
   "outputs": [],
   "source": [
    "from sklearn.feature_extraction.text import CountVectorizer\n",
    "from sklearn.ensemble import RandomForestClassifier\n",
    "from sklearn import datasets\n",
    "clf = RandomForestClassifier() "
   ]
  },
  {
   "cell_type": "code",
   "execution_count": 34,
   "metadata": {},
   "outputs": [
    {
     "data": {
      "text/plain": [
       "RandomForestClassifier()"
      ]
     },
     "execution_count": 34,
     "metadata": {},
     "output_type": "execute_result"
    }
   ],
   "source": [
    "from sklearn import model_selection\n",
    "# random forest model creation\n",
    "rfc = RandomForestClassifier()\n",
    "rfc.fit(X_train,y_train)"
   ]
  },
  {
   "cell_type": "code",
   "execution_count": 35,
   "metadata": {},
   "outputs": [],
   "source": [
    "rfc_predict = rfc.predict(X_test)"
   ]
  },
  {
   "cell_type": "code",
   "execution_count": 36,
   "metadata": {},
   "outputs": [
    {
     "name": "stdout",
     "output_type": "stream",
     "text": [
      "              precision    recall  f1-score   support\n",
      "\n",
      "     extract       0.91      0.47      0.62       395\n",
      "      inline       0.99      1.00      1.00       422\n",
      "        move       0.94      0.69      0.80       429\n",
      "     pull up       0.57      0.65      0.61       413\n",
      "  push down        0.90      0.69      0.78       373\n",
      "      rename       0.56      0.98      0.71       449\n",
      "\n",
      "    accuracy                           0.75      2481\n",
      "   macro avg       0.81      0.75      0.75      2481\n",
      "weighted avg       0.81      0.75      0.75      2481\n",
      "\n",
      "\n",
      "\n"
     ]
    }
   ],
   "source": [
    "from sklearn.model_selection import cross_val_score\n",
    "from sklearn.metrics import classification_report, confusion_matrix\n",
    "print(classification_report(y_test, rfc_predict))\n",
    "print('\\n')"
   ]
  },
  {
   "cell_type": "code",
   "execution_count": 26,
   "metadata": {},
   "outputs": [],
   "source": [
    "#SVM:\n",
    "from sklearn import svm, datasets\n",
    "import sklearn.model_selection as model_selection\n",
    "from sklearn.metrics import accuracy_score\n",
    "from sklearn.metrics import f1_score"
   ]
  },
  {
   "cell_type": "code",
   "execution_count": 27,
   "metadata": {},
   "outputs": [],
   "source": [
    "rbf = svm.SVC(kernel='rbf', gamma=0.5, C=0.1).fit(X_train, y_train)"
   ]
  },
  {
   "cell_type": "code",
   "execution_count": 28,
   "metadata": {},
   "outputs": [],
   "source": [
    "rbf_pred = rbf.predict(X_test)"
   ]
  },
  {
   "cell_type": "code",
   "execution_count": 30,
   "metadata": {},
   "outputs": [
    {
     "name": "stdout",
     "output_type": "stream",
     "text": [
      "Accuracy (RBF Kernel):  34.42\n",
      "F1 (RBF Kernel):  30.74\n"
     ]
    }
   ],
   "source": [
    "rbf_accuracy = accuracy_score(y_test, rbf_pred)\n",
    "rbf_f1 = f1_score(y_test, rbf_pred, average='weighted')\n",
    "print('Accuracy (RBF Kernel): ', \"%.2f\" % (rbf_accuracy*100))\n",
    "print('F1 (RBF Kernel): ', \"%.2f\" % (rbf_f1*100))"
   ]
  },
  {
   "cell_type": "code",
   "execution_count": 31,
   "metadata": {},
   "outputs": [
    {
     "data": {
      "text/plain": [
       "SVC(gamma='auto', kernel='linear')"
      ]
     },
     "execution_count": 31,
     "metadata": {},
     "output_type": "execute_result"
    }
   ],
   "source": [
    "SVM = svm.SVC(C=1.0, kernel='linear', degree=3, gamma='auto')\n",
    "SVM.fit(X_train, y_train)"
   ]
  },
  {
   "cell_type": "code",
   "execution_count": 32,
   "metadata": {},
   "outputs": [
    {
     "name": "stdout",
     "output_type": "stream",
     "text": [
      "SVM Accuracy Score ->  44.21604191858122\n"
     ]
    }
   ],
   "source": [
    "# predict the labels on validation dataset\n",
    "predictions_SVM = SVM.predict(X_test)\n",
    "# Use accuracy_score function to get the accuracy\n",
    "print(\"SVM Accuracy Score -> \",accuracy_score(predictions_SVM, y_test)*100)"
   ]
  },
  {
   "cell_type": "code",
   "execution_count": 42,
   "metadata": {},
   "outputs": [
    {
     "name": "stdout",
     "output_type": "stream",
     "text": [
      "              precision    recall  f1-score   support\n",
      "\n",
      "     extract       0.64      0.24      0.35       380\n",
      "      inline       0.79      0.73      0.76       417\n",
      "        move       0.69      0.30      0.42       423\n",
      "     pull up       0.29      0.11      0.16       418\n",
      "  push down        0.61      0.29      0.40       400\n",
      "      rename       0.29      0.92      0.44       443\n",
      "\n",
      "    accuracy                           0.44      2481\n",
      "   macro avg       0.55      0.43      0.42      2481\n",
      "weighted avg       0.55      0.44      0.42      2481\n",
      "\n",
      "\n",
      "\n"
     ]
    }
   ],
   "source": [
    "from sklearn.model_selection import cross_val_score\n",
    "from sklearn.metrics import classification_report, confusion_matrix\n",
    "print(classification_report(y_test, predictions_SVM))\n",
    "print('\\n')"
   ]
  },
  {
   "cell_type": "code",
   "execution_count": null,
   "metadata": {},
   "outputs": [],
   "source": [
    "#logistic regression:"
   ]
  },
  {
   "cell_type": "code",
   "execution_count": 38,
   "metadata": {},
   "outputs": [],
   "source": [
    "#naive bayes: \n",
    "from sklearn.naive_bayes import MultinomialNB\n",
    "from sklearn.pipeline import Pipeline\n",
    "from sklearn.feature_extraction.text import TfidfTransformer\n",
    "from sklearn import model_selection, naive_bayes, svm"
   ]
  },
  {
   "cell_type": "code",
   "execution_count": 39,
   "metadata": {},
   "outputs": [
    {
     "data": {
      "text/plain": [
       "MultinomialNB()"
      ]
     },
     "execution_count": 39,
     "metadata": {},
     "output_type": "execute_result"
    }
   ],
   "source": [
    "Naive = naive_bayes.MultinomialNB()\n",
    "Naive.fit(X_train, y_train)"
   ]
  },
  {
   "cell_type": "code",
   "execution_count": 40,
   "metadata": {},
   "outputs": [],
   "source": [
    "predictions_NB = Naive.predict(X_test)"
   ]
  },
  {
   "cell_type": "code",
   "execution_count": 41,
   "metadata": {},
   "outputs": [
    {
     "name": "stdout",
     "output_type": "stream",
     "text": [
      "Naive Bayes Accuracy Score ->  34.582829504232166\n"
     ]
    }
   ],
   "source": [
    "print(\"Naive Bayes Accuracy Score -> \",accuracy_score(predictions_NB, y_test)*100)"
   ]
  },
  {
   "cell_type": "code",
   "execution_count": 43,
   "metadata": {},
   "outputs": [
    {
     "name": "stdout",
     "output_type": "stream",
     "text": [
      "              precision    recall  f1-score   support\n",
      "\n",
      "     extract       0.20      0.73      0.31       380\n",
      "      inline       0.65      0.60      0.62       417\n",
      "        move       0.39      0.25      0.31       423\n",
      "     pull up       0.47      0.13      0.20       418\n",
      "  push down        0.50      0.34      0.41       400\n",
      "      rename       0.72      0.08      0.14       443\n",
      "\n",
      "    accuracy                           0.35      2481\n",
      "   macro avg       0.49      0.35      0.33      2481\n",
      "weighted avg       0.49      0.35      0.33      2481\n",
      "\n",
      "\n",
      "\n"
     ]
    }
   ],
   "source": [
    "from sklearn.model_selection import cross_val_score\n",
    "from sklearn.metrics import classification_report, confusion_matrix\n",
    "print(classification_report(y_test,predictions_NB))\n",
    "print('\\n')"
   ]
  },
  {
   "cell_type": "code",
   "execution_count": 44,
   "metadata": {},
   "outputs": [],
   "source": [
    "from sklearn import metrics\n",
    "from sklearn.linear_model import LogisticRegression\n",
    "from sklearn.model_selection import train_test_split"
   ]
  },
  {
   "cell_type": "code",
   "execution_count": 45,
   "metadata": {},
   "outputs": [
    {
     "name": "stderr",
     "output_type": "stream",
     "text": [
      "C:\\Users\\Priya\\anaconda3\\lib\\site-packages\\sklearn\\linear_model\\_logistic.py:763: ConvergenceWarning: lbfgs failed to converge (status=1):\n",
      "STOP: TOTAL NO. of ITERATIONS REACHED LIMIT.\n",
      "\n",
      "Increase the number of iterations (max_iter) or scale the data as shown in:\n",
      "    https://scikit-learn.org/stable/modules/preprocessing.html\n",
      "Please also refer to the documentation for alternative solver options:\n",
      "    https://scikit-learn.org/stable/modules/linear_model.html#logistic-regression\n",
      "  n_iter_i = _check_optimize_result(\n"
     ]
    },
    {
     "data": {
      "text/plain": [
       "LogisticRegression()"
      ]
     },
     "execution_count": 45,
     "metadata": {},
     "output_type": "execute_result"
    }
   ],
   "source": [
    "model = LogisticRegression()\n",
    "model.fit(X_train, y_train)"
   ]
  },
  {
   "cell_type": "code",
   "execution_count": 46,
   "metadata": {},
   "outputs": [],
   "source": [
    "predictions_LR = model.predict(X_test)"
   ]
  },
  {
   "cell_type": "code",
   "execution_count": null,
   "metadata": {},
   "outputs": [],
   "source": [
    "print(\"LR Accuracy Score -> \",accuracy_score(predictions_LR, y_test)*100)"
   ]
  }
 ],
 "metadata": {
  "kernelspec": {
   "display_name": "Python 3",
   "language": "python",
   "name": "python3"
  },
  "language_info": {
   "codemirror_mode": {
    "name": "ipython",
    "version": 3
   },
   "file_extension": ".py",
   "mimetype": "text/x-python",
   "name": "python",
   "nbconvert_exporter": "python",
   "pygments_lexer": "ipython3",
   "version": "3.8.3"
  }
 },
 "nbformat": 4,
 "nbformat_minor": 4
}
